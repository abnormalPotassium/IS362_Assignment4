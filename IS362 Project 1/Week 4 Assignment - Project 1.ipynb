{
 "cells": [
  {
   "cell_type": "code",
   "execution_count": 1,
   "metadata": {},
   "outputs": [],
   "source": [
    "import numpy as np\n",
    "import matplotlib.pyplot as plt\n",
    "import pandas as pd\n",
    "from pandas import DataFrame, Series "
   ]
  },
  {
   "cell_type": "markdown",
   "metadata": {},
   "source": [
    "## Loading a DataFrame from a CSV File\n",
    "\n",
    "We load the delay data for ALASKA and AM WEST airlines at our five airports of Los Angeles, Phoenix, San Diego, San Francisco, and Seattle."
   ]
  },
  {
   "cell_type": "code",
   "execution_count": 2,
   "metadata": {},
   "outputs": [],
   "source": [
    "df = pd.read_csv(r'D:\\Libraries\\Documents\\College\\CUNY\\2020 S1\\IS 362 Data Acquisition and Management\\IS362 Project 1\\DelayData.csv')"
   ]
  },
  {
   "cell_type": "markdown",
   "metadata": {},
   "source": [
    "## Analyzing Data from a Pandas DataFrame\n",
    "We add a new total column to eventually compare total on time rate and then can display a replica of the dataset in tableform by just calling the dataframe."
   ]
  },
  {
   "cell_type": "code",
   "execution_count": 3,
   "metadata": {},
   "outputs": [
    {
     "data": {
      "text/html": [
       "<div>\n",
       "<style scoped>\n",
       "    .dataframe tbody tr th:only-of-type {\n",
       "        vertical-align: middle;\n",
       "    }\n",
       "\n",
       "    .dataframe tbody tr th {\n",
       "        vertical-align: top;\n",
       "    }\n",
       "\n",
       "    .dataframe thead th {\n",
       "        text-align: right;\n",
       "    }\n",
       "</style>\n",
       "<table border=\"1\" class=\"dataframe\">\n",
       "  <thead>\n",
       "    <tr style=\"text-align: right;\">\n",
       "      <th></th>\n",
       "      <th>Airline</th>\n",
       "      <th>Delay Status</th>\n",
       "      <th>Los Angeles</th>\n",
       "      <th>Phoenix</th>\n",
       "      <th>San Diego</th>\n",
       "      <th>San Francisco</th>\n",
       "      <th>Seattle</th>\n",
       "      <th>Total</th>\n",
       "    </tr>\n",
       "  </thead>\n",
       "  <tbody>\n",
       "    <tr>\n",
       "      <th>0</th>\n",
       "      <td>ALASKA</td>\n",
       "      <td>on time</td>\n",
       "      <td>497</td>\n",
       "      <td>221</td>\n",
       "      <td>212</td>\n",
       "      <td>503</td>\n",
       "      <td>1841</td>\n",
       "      <td>3274</td>\n",
       "    </tr>\n",
       "    <tr>\n",
       "      <th>1</th>\n",
       "      <td>ALASKA</td>\n",
       "      <td>delayed</td>\n",
       "      <td>62</td>\n",
       "      <td>12</td>\n",
       "      <td>20</td>\n",
       "      <td>102</td>\n",
       "      <td>305</td>\n",
       "      <td>501</td>\n",
       "    </tr>\n",
       "    <tr>\n",
       "      <th>2</th>\n",
       "      <td>AM WEST</td>\n",
       "      <td>on time</td>\n",
       "      <td>694</td>\n",
       "      <td>4840</td>\n",
       "      <td>383</td>\n",
       "      <td>320</td>\n",
       "      <td>201</td>\n",
       "      <td>6438</td>\n",
       "    </tr>\n",
       "    <tr>\n",
       "      <th>3</th>\n",
       "      <td>AM WEST</td>\n",
       "      <td>delayed</td>\n",
       "      <td>117</td>\n",
       "      <td>415</td>\n",
       "      <td>65</td>\n",
       "      <td>129</td>\n",
       "      <td>61</td>\n",
       "      <td>787</td>\n",
       "    </tr>\n",
       "  </tbody>\n",
       "</table>\n",
       "</div>"
      ],
      "text/plain": [
       "   Airline Delay Status  Los Angeles  Phoenix  San Diego  San Francisco  \\\n",
       "0   ALASKA      on time          497      221        212            503   \n",
       "1   ALASKA      delayed           62       12         20            102   \n",
       "2  AM WEST      on time          694     4840        383            320   \n",
       "3  AM WEST      delayed          117      415         65            129   \n",
       "\n",
       "   Seattle  Total  \n",
       "0     1841   3274  \n",
       "1      305    501  \n",
       "2      201   6438  \n",
       "3       61    787  "
      ]
     },
     "execution_count": 3,
     "metadata": {},
     "output_type": "execute_result"
    }
   ],
   "source": [
    "df['Total'] = df.sum(axis=1)\n",
    "df"
   ]
  },
  {
   "cell_type": "markdown",
   "metadata": {},
   "source": [
    "We are able to isolate the rows belonging to each airline and then divide the on time flights by the sum of both rows in order to figure out the rate of flights that are on time for each airport and in total. These rates are recorded in new dataframes for each airline."
   ]
  },
  {
   "cell_type": "code",
   "execution_count": 4,
   "metadata": {},
   "outputs": [
    {
     "data": {
      "text/html": [
       "<div>\n",
       "<style scoped>\n",
       "    .dataframe tbody tr th:only-of-type {\n",
       "        vertical-align: middle;\n",
       "    }\n",
       "\n",
       "    .dataframe tbody tr th {\n",
       "        vertical-align: top;\n",
       "    }\n",
       "\n",
       "    .dataframe thead th {\n",
       "        text-align: right;\n",
       "    }\n",
       "</style>\n",
       "<table border=\"1\" class=\"dataframe\">\n",
       "  <thead>\n",
       "    <tr style=\"text-align: right;\">\n",
       "      <th></th>\n",
       "      <th>Airline</th>\n",
       "      <th>Delay Status</th>\n",
       "      <th>Los Angeles</th>\n",
       "      <th>Phoenix</th>\n",
       "      <th>San Diego</th>\n",
       "      <th>San Francisco</th>\n",
       "      <th>Seattle</th>\n",
       "      <th>Total</th>\n",
       "    </tr>\n",
       "  </thead>\n",
       "  <tbody>\n",
       "    <tr>\n",
       "      <th>0</th>\n",
       "      <td>ALASKA</td>\n",
       "      <td>Percent on Time</td>\n",
       "      <td>0.889088</td>\n",
       "      <td>0.948498</td>\n",
       "      <td>0.913793</td>\n",
       "      <td>0.831405</td>\n",
       "      <td>0.857875</td>\n",
       "      <td>0.867285</td>\n",
       "    </tr>\n",
       "  </tbody>\n",
       "</table>\n",
       "</div>"
      ],
      "text/plain": [
       "  Airline     Delay Status  Los Angeles   Phoenix  San Diego  San Francisco  \\\n",
       "0  ALASKA  Percent on Time     0.889088  0.948498   0.913793       0.831405   \n",
       "\n",
       "    Seattle     Total  \n",
       "0  0.857875  0.867285  "
      ]
     },
     "execution_count": 4,
     "metadata": {},
     "output_type": "execute_result"
    }
   ],
   "source": [
    "af = df[[\"Los Angeles\",\"Phoenix\",\"San Diego\",\"San Francisco\",\"Seattle\",\"Total\"]][(df.Airline == \"ALASKA\")&(df['Delay Status'] == 'on time')]/df[df.Airline == \"ALASKA\"].sum(axis=0)\n",
    "af[\"Airline\"] = 'ALASKA'\n",
    "af[\"Delay Status\"] = \"Percent on Time\"\n",
    "af"
   ]
  },
  {
   "cell_type": "code",
   "execution_count": 5,
   "metadata": {},
   "outputs": [
    {
     "data": {
      "text/html": [
       "<div>\n",
       "<style scoped>\n",
       "    .dataframe tbody tr th:only-of-type {\n",
       "        vertical-align: middle;\n",
       "    }\n",
       "\n",
       "    .dataframe tbody tr th {\n",
       "        vertical-align: top;\n",
       "    }\n",
       "\n",
       "    .dataframe thead th {\n",
       "        text-align: right;\n",
       "    }\n",
       "</style>\n",
       "<table border=\"1\" class=\"dataframe\">\n",
       "  <thead>\n",
       "    <tr style=\"text-align: right;\">\n",
       "      <th></th>\n",
       "      <th>Airline</th>\n",
       "      <th>Delay Status</th>\n",
       "      <th>Los Angeles</th>\n",
       "      <th>Phoenix</th>\n",
       "      <th>San Diego</th>\n",
       "      <th>San Francisco</th>\n",
       "      <th>Seattle</th>\n",
       "      <th>Total</th>\n",
       "    </tr>\n",
       "  </thead>\n",
       "  <tbody>\n",
       "    <tr>\n",
       "      <th>2</th>\n",
       "      <td>AM WEST</td>\n",
       "      <td>Percent on Time</td>\n",
       "      <td>0.855734</td>\n",
       "      <td>0.921028</td>\n",
       "      <td>0.854911</td>\n",
       "      <td>0.712695</td>\n",
       "      <td>0.767176</td>\n",
       "      <td>0.891073</td>\n",
       "    </tr>\n",
       "  </tbody>\n",
       "</table>\n",
       "</div>"
      ],
      "text/plain": [
       "   Airline     Delay Status  Los Angeles   Phoenix  San Diego  San Francisco  \\\n",
       "2  AM WEST  Percent on Time     0.855734  0.921028   0.854911       0.712695   \n",
       "\n",
       "    Seattle     Total  \n",
       "2  0.767176  0.891073  "
      ]
     },
     "execution_count": 5,
     "metadata": {},
     "output_type": "execute_result"
    }
   ],
   "source": [
    "amw = df[[\"Los Angeles\",\"Phoenix\",\"San Diego\",\"San Francisco\",\"Seattle\",\"Total\"]][(df.Airline == \"AM WEST\")&(df['Delay Status'] == 'on time')]/df[df.Airline == \"AM WEST\"].sum(axis=0)\n",
    "amw[\"Airline\"] = 'AM WEST'\n",
    "amw[\"Delay Status\"] = \"Percent on Time\"\n",
    "amw"
   ]
  },
  {
   "cell_type": "markdown",
   "metadata": {},
   "source": [
    "We can then concatenate these two newly generated dataframes in order to generate a table that allows for a direct comparison on the on time rate between the two airlines."
   ]
  },
  {
   "cell_type": "code",
   "execution_count": 6,
   "metadata": {},
   "outputs": [
    {
     "data": {
      "text/html": [
       "<div>\n",
       "<style scoped>\n",
       "    .dataframe tbody tr th:only-of-type {\n",
       "        vertical-align: middle;\n",
       "    }\n",
       "\n",
       "    .dataframe tbody tr th {\n",
       "        vertical-align: top;\n",
       "    }\n",
       "\n",
       "    .dataframe thead th {\n",
       "        text-align: right;\n",
       "    }\n",
       "</style>\n",
       "<table border=\"1\" class=\"dataframe\">\n",
       "  <thead>\n",
       "    <tr style=\"text-align: right;\">\n",
       "      <th></th>\n",
       "      <th>Airline</th>\n",
       "      <th>Delay Status</th>\n",
       "      <th>Los Angeles</th>\n",
       "      <th>Phoenix</th>\n",
       "      <th>San Diego</th>\n",
       "      <th>San Francisco</th>\n",
       "      <th>Seattle</th>\n",
       "      <th>Total</th>\n",
       "    </tr>\n",
       "  </thead>\n",
       "  <tbody>\n",
       "    <tr>\n",
       "      <th>0</th>\n",
       "      <td>ALASKA</td>\n",
       "      <td>Percent on Time</td>\n",
       "      <td>0.889088</td>\n",
       "      <td>0.948498</td>\n",
       "      <td>0.913793</td>\n",
       "      <td>0.831405</td>\n",
       "      <td>0.857875</td>\n",
       "      <td>0.867285</td>\n",
       "    </tr>\n",
       "    <tr>\n",
       "      <th>2</th>\n",
       "      <td>AM WEST</td>\n",
       "      <td>Percent on Time</td>\n",
       "      <td>0.855734</td>\n",
       "      <td>0.921028</td>\n",
       "      <td>0.854911</td>\n",
       "      <td>0.712695</td>\n",
       "      <td>0.767176</td>\n",
       "      <td>0.891073</td>\n",
       "    </tr>\n",
       "  </tbody>\n",
       "</table>\n",
       "</div>"
      ],
      "text/plain": [
       "   Airline     Delay Status  Los Angeles   Phoenix  San Diego  San Francisco  \\\n",
       "0   ALASKA  Percent on Time     0.889088  0.948498   0.913793       0.831405   \n",
       "2  AM WEST  Percent on Time     0.855734  0.921028   0.854911       0.712695   \n",
       "\n",
       "    Seattle     Total  \n",
       "0  0.857875  0.867285  \n",
       "2  0.767176  0.891073  "
      ]
     },
     "execution_count": 6,
     "metadata": {},
     "output_type": "execute_result"
    }
   ],
   "source": [
    "dff = pd.concat([af,amw],axis = 0)\n",
    "dff"
   ]
  },
  {
   "cell_type": "markdown",
   "metadata": {},
   "source": [
    "## Conclusion\n",
    "\n",
    "Overall, AM WEST is less likely to have a delay by a few percent. However, looking at the individual airports you'll see that ALASKA is less likely to have a delay in each of these airports. The reason this is happening is because of the greater amount of flights that AM WEST makes compared to ALASKA which also means that the AM WEST data should theoretically be more accurate than the ALASKA data with less flights."
   ]
  }
 ],
 "metadata": {
  "kernelspec": {
   "display_name": "Python 3",
   "language": "python",
   "name": "python3"
  },
  "language_info": {
   "codemirror_mode": {
    "name": "ipython",
    "version": 3
   },
   "file_extension": ".py",
   "mimetype": "text/x-python",
   "name": "python",
   "nbconvert_exporter": "python",
   "pygments_lexer": "ipython3",
   "version": "3.7.4"
  }
 },
 "nbformat": 4,
 "nbformat_minor": 4
}
